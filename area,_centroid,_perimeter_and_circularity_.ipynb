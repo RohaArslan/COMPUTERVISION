{
  "nbformat": 4,
  "nbformat_minor": 0,
  "metadata": {
    "colab": {
      "provenance": [],
      "authorship_tag": "ABX9TyMHp/VHyi5vJvDDxD8vucwc",
      "include_colab_link": true
    },
    "kernelspec": {
      "name": "python3",
      "display_name": "Python 3"
    },
    "language_info": {
      "name": "python"
    }
  },
  "cells": [
    {
      "cell_type": "markdown",
      "metadata": {
        "id": "view-in-github",
        "colab_type": "text"
      },
      "source": [
        "<a href=\"https://colab.research.google.com/github/RohaArslan/COMPUTERVISION/blob/main/area%2C_centroid%2C_perimeter_and_circularity_.ipynb\" target=\"_parent\"><img src=\"https://colab.research.google.com/assets/colab-badge.svg\" alt=\"Open In Colab\"/></a>"
      ]
    },
    {
      "cell_type": "code",
      "execution_count": 5,
      "metadata": {
        "colab": {
          "base_uri": "https://localhost:8080/"
        },
        "id": "sRvYGqeV-1jv",
        "outputId": "689f6128-dd25-4e82-8226-78260630076e"
      },
      "outputs": [
        {
          "output_type": "stream",
          "name": "stdout",
          "text": [
            "Drive already mounted at /content/drive; to attempt to forcibly remount, call drive.mount(\"/content/drive\", force_remount=True).\n"
          ]
        }
      ],
      "source": [
        "from google.colab import drive\n",
        "import numpy as np\n",
        "import matplotlib.pyplot as plt\n",
        "from skimage import io\n",
        "from scipy import ndimage\n",
        "\n",
        "# Mount Google Drive\n",
        "drive.mount('/content/drive')"
      ]
    },
    {
      "cell_type": "code",
      "source": [
        "# Function to compute region properties from scratch\n",
        "def compute_region_properties(binary_image):\n",
        "    properties = []\n",
        "    # Label the regions to identify unique regions in the binary image\n",
        "    labeled, num_labels = ndimage.label(binary_image)\n",
        "\n",
        "    for label in range(1, num_labels):  # Start from 1 as 0 is the background\n",
        "        region = (labeled == label).astype(np.uint8)\n",
        "\n",
        "        # Calculate area (sum of pixels in the region)\n",
        "        area = np.sum(region)\n",
        "\n",
        "        # Calculate centroid\n",
        "        rows, cols = np.nonzero(region)\n",
        "        if area > 0:\n",
        "            cx = np.mean(cols).astype(int)\n",
        "            cy = np.mean(rows).astype(int)\n",
        "            centroid = (cx, cy)\n",
        "        else:\n",
        "            centroid = (0, 0)\n",
        "\n",
        "        # Calculate perimeter\n",
        "        perimeter = 0\n",
        "        for r, c in zip(rows, cols):\n",
        "            # Check neighbors to detect edges\n",
        "            if r > 0 and c > 0 and r < region.shape[0] - 1 and c < region.shape[1] - 1:\n",
        "                # If any neighbor is zero, it's an edge pixel\n",
        "                if (region[r-1, c] == 0 or region[r+1, c] == 0 or\n",
        "                    region[r, c-1] == 0 or region[r, c+1] == 0):\n",
        "                    perimeter += 1\n",
        "\n",
        "        # Calculate circularity\n",
        "        circularity = (4 * np.pi * area) / (perimeter ** 2) if perimeter > 0 else 0\n",
        "\n",
        "        properties.append({\n",
        "            'area': area,\n",
        "            'centroid': centroid,\n",
        "            'perimeter': perimeter,\n",
        "            'circularity': circularity\n",
        "        })\n",
        "\n",
        "    return properties\n"
      ],
      "metadata": {
        "id": "CnYl-Rch_HDl"
      },
      "execution_count": 2,
      "outputs": []
    },
    {
      "cell_type": "code",
      "source": [
        "# Specify the path to the image in Google Drive\n",
        "image_path = \"/content/drive/MyDrive/CV/APPLE.jpeg\"\n",
        "image = io.imread(image_path)\n",
        "\n",
        "# Convert to grayscale\n",
        "gray_image = np.mean(image, axis=2).astype(np.uint8)  # Convert to grayscale by averaging color channels\n",
        "\n",
        "# Convert to binary image (thresholding)\n",
        "binary_image = (gray_image > 128).astype(np.uint8) * 255"
      ],
      "metadata": {
        "id": "j4MYK_HR_Jx7"
      },
      "execution_count": 7,
      "outputs": []
    },
    {
      "cell_type": "code",
      "source": [
        "# Display the binary image\n",
        "plt.imshow(binary_image, cmap='gray')\n",
        "plt.title(\"Binary Image\")\n",
        "plt.axis('off')\n",
        "plt.show()\n",
        "\n",
        "# Call the function and print properties\n",
        "properties = compute_region_properties(binary_image)\n",
        "for i, prop in enumerate(properties):\n",
        "    print(f\"Region {i + 1}: Area = {prop['area']}, Centroid = {prop['centroid']}, Perimeter = {prop['perimeter']}, Circularity = {prop['circularity']}\")"
      ],
      "metadata": {
        "colab": {
          "base_uri": "https://localhost:8080/",
          "height": 1000
        },
        "id": "zjLqfsnx_TMa",
        "outputId": "1a863f16-81f6-4d18-e2ef-5470387f897f"
      },
      "execution_count": 8,
      "outputs": [
        {
          "output_type": "display_data",
          "data": {
            "text/plain": [
              "<Figure size 640x480 with 1 Axes>"
            ],
            "image/png": "[encoded data removed]"
          },
          "metadata": {}
        },
        {
          "output_type": "stream",
          "name": "stdout",
          "text": [
            "Region 1: Area = 1508782, Centroid = (579, 753), Perimeter = 6512, Circularity = 0.44710299027126965\n",
            "Region 2: Area = 1, Centroid = (583, 432), Perimeter = 1, Circularity = 12.566370614359172\n",
            "Region 3: Area = 1, Centroid = (568, 440), Perimeter = 1, Circularity = 12.566370614359172\n",
            "Region 4: Area = 7, Centroid = (565, 442), Perimeter = 6, Circularity = 2.443460952792061\n",
            "Region 5: Area = 4, Centroid = (550, 448), Perimeter = 4, Circularity = 3.141592653589793\n",
            "Region 6: Area = 3, Centroid = (552, 451), Perimeter = 3, Circularity = 4.1887902047863905\n",
            "Region 7: Area = 3, Centroid = (559, 454), Perimeter = 3, Circularity = 4.1887902047863905\n",
            "Region 8: Area = 1, Centroid = (439, 461), Perimeter = 1, Circularity = 12.566370614359172\n",
            "Region 9: Area = 5, Centroid = (534, 462), Perimeter = 5, Circularity = 2.5132741228718345\n",
            "Region 10: Area = 11, Centroid = (414, 470), Perimeter = 10, Circularity = 1.382300767579509\n",
            "Region 11: Area = 3, Centroid = (536, 470), Perimeter = 3, Circularity = 4.1887902047863905\n",
            "Region 12: Area = 2, Centroid = (543, 469), Perimeter = 2, Circularity = 6.283185307179586\n",
            "Region 13: Area = 27, Centroid = (572, 477), Perimeter = 22, Circularity = 0.7010165425365654\n",
            "Region 14: Area = 1, Centroid = (504, 479), Perimeter = 1, Circularity = 12.566370614359172\n",
            "Region 15: Area = 1, Centroid = (568, 479), Perimeter = 1, Circularity = 12.566370614359172\n",
            "Region 16: Area = 1, Centroid = (719, 479), Perimeter = 1, Circularity = 12.566370614359172\n",
            "Region 17: Area = 2, Centroid = (429, 480), Perimeter = 2, Circularity = 6.283185307179586\n",
            "Region 18: Area = 1, Centroid = (720, 480), Perimeter = 1, Circularity = 12.566370614359172\n",
            "Region 19: Area = 9, Centroid = (717, 485), Perimeter = 7, Circularity = 2.308108888351685\n",
            "Region 20: Area = 3, Centroid = (599, 490), Perimeter = 3, Circularity = 4.1887902047863905\n",
            "Region 21: Area = 2, Centroid = (704, 495), Perimeter = 2, Circularity = 6.283185307179586\n",
            "Region 22: Area = 1, Centroid = (711, 495), Perimeter = 1, Circularity = 12.566370614359172\n",
            "Region 23: Area = 1, Centroid = (637, 496), Perimeter = 1, Circularity = 12.566370614359172\n",
            "Region 24: Area = 5, Centroid = (713, 496), Perimeter = 5, Circularity = 2.5132741228718345\n",
            "Region 25: Area = 4, Centroid = (694, 498), Perimeter = 4, Circularity = 3.141592653589793\n",
            "Region 26: Area = 1, Centroid = (634, 503), Perimeter = 1, Circularity = 12.566370614359172\n",
            "Region 27: Area = 5, Centroid = (571, 504), Perimeter = 5, Circularity = 2.5132741228718345\n",
            "Region 28: Area = 21, Centroid = (714, 507), Perimeter = 14, Circularity = 1.3463968515384828\n",
            "Region 29: Area = 2, Centroid = (635, 505), Perimeter = 2, Circularity = 6.283185307179586\n",
            "Region 30: Area = 1, Centroid = (647, 511), Perimeter = 1, Circularity = 12.566370614359172\n",
            "Region 31: Area = 1, Centroid = (706, 511), Perimeter = 1, Circularity = 12.566370614359172\n",
            "Region 32: Area = 2, Centroid = (749, 511), Perimeter = 2, Circularity = 6.283185307179586\n",
            "Region 33: Area = 2, Centroid = (544, 545), Perimeter = 2, Circularity = 6.283185307179586\n",
            "Region 34: Area = 5, Centroid = (683, 554), Perimeter = 5, Circularity = 2.5132741228718345\n",
            "Region 35: Area = 2, Centroid = (722, 556), Perimeter = 2, Circularity = 6.283185307179586\n",
            "Region 36: Area = 3, Centroid = (772, 580), Perimeter = 3, Circularity = 4.1887902047863905\n",
            "Region 37: Area = 1, Centroid = (745, 616), Perimeter = 1, Circularity = 12.566370614359172\n",
            "Region 38: Area = 7, Centroid = (196, 789), Perimeter = 6, Circularity = 2.443460952792061\n",
            "Region 39: Area = 9, Centroid = (195, 793), Perimeter = 8, Circularity = 1.7671458676442586\n",
            "Region 40: Area = 2, Centroid = (191, 795), Perimeter = 2, Circularity = 6.283185307179586\n",
            "Region 41: Area = 1, Centroid = (191, 800), Perimeter = 1, Circularity = 12.566370614359172\n",
            "Region 42: Area = 1053, Centroid = (465, 869), Perimeter = 199, Circularity = 0.3341427806600896\n",
            "Region 43: Area = 6, Centroid = (487, 863), Perimeter = 6, Circularity = 2.0943951023931953\n",
            "Region 44: Area = 2, Centroid = (1016, 872), Perimeter = 2, Circularity = 6.283185307179586\n",
            "Region 45: Area = 132, Centroid = (504, 881), Perimeter = 44, Circularity = 0.85679799643358\n",
            "Region 46: Area = 22, Centroid = (1081, 885), Perimeter = 17, Circularity = 0.9566095277366843\n",
            "Region 47: Area = 1, Centroid = (1087, 895), Perimeter = 1, Circularity = 12.566370614359172\n",
            "Region 48: Area = 32, Centroid = (1176, 1349), Perimeter = 26, Circularity = 0.5948577805613809\n",
            "Region 49: Area = 8, Centroid = (1155, 1392), Perimeter = 8, Circularity = 1.5707963267948966\n"
          ]
        }
      ]
    }
  ]
}